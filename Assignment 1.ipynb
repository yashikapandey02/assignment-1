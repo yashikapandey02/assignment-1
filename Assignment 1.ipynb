{
 "cells": [
  {
   "cell_type": "code",
   "execution_count": null,
   "id": "6e1ca33e",
   "metadata": {},
   "outputs": [],
   "source": [
    "1. In the below elements which of them are values or an expression? eg:- values can be integer or string and expressions will be mathematical operators.\n",
    "Ans-\n",
    " *  =  this is an expression\n",
    "'hello'=  since it’s a string hence it’s a value\n",
    "-87.8=  This is a float number hence it’s a value\n",
    "- =  this is an expression\n",
    "/ =  this is an expression\n",
    "+= this is an expression\n",
    "6 =  since its an integer it’s a value"
   ]
  },
  {
   "cell_type": "code",
   "execution_count": null,
   "id": "7577522a",
   "metadata": {},
   "outputs": [],
   "source": []
  },
  {
   "cell_type": "code",
   "execution_count": null,
   "id": "d09797a4",
   "metadata": {},
   "outputs": [],
   "source": [
    "2.What is the difference between string and variable?\n",
    "\n",
    "Ans= Variable is an empty box in our program where we store data or value whereas string is a type of information that we store in our variable it can only represent text.\n"
   ]
  },
  {
   "cell_type": "code",
   "execution_count": null,
   "id": "4dc07c54",
   "metadata": {},
   "outputs": [],
   "source": [
    "3.Describe three different data types.\n",
    "Ans= three datatypes are:\n",
    "\n",
    "1-Boolean (value can be either True/False)\n",
    "2-Int (Integers) positive and negative whole numbers\n",
    "3-Strings collection of one or more characters in a single or double quote"
   ]
  },
  {
   "cell_type": "code",
   "execution_count": null,
   "id": "08ba5553",
   "metadata": {},
   "outputs": [],
   "source": [
    "4.What is an expression made up of? What do all expressions do?\n",
    "Ans= Expressions are made up of mathematical operators and operands.\n",
    "Arithmetical operators like +,-,*,/,%, // etc are some example of operators. These expression produces the result or values after being executed on the programm \n",
    "Example 7+5=12 here + is an operator and 7, 5 are operands in which operation is performed producing the result 12."
   ]
  },
  {
   "cell_type": "code",
   "execution_count": null,
   "id": "db7f5892",
   "metadata": {},
   "outputs": [],
   "source": [
    "5.This assignment statements, like spam = 10. What is the difference between an expression and a statement?\n",
    "Ans= Expression only contain identifiers, literals and operators, where operators include arithmetic and boolean operators\n",
    "Statements on the other hand, are everything that can make up a line "
   ]
  },
  {
   "cell_type": "code",
   "execution_count": null,
   "id": "fabf6a15",
   "metadata": {},
   "outputs": [],
   "source": [
    "6. After running the following code, what does the variable bacon contain?\n",
    "bacon = 22\n",
    "bacon + 1\n",
    "Ans=23"
   ]
  },
  {
   "cell_type": "code",
   "execution_count": null,
   "id": "8d7003a3",
   "metadata": {},
   "outputs": [],
   "source": [
    "7. What should the values of the following two terms be?\n",
    "'spam' + 'spamspam'\n",
    "'spam' * 3\n",
    "Ans= spamspamspam"
   ]
  },
  {
   "cell_type": "code",
   "execution_count": null,
   "id": "5ce90f40",
   "metadata": {},
   "outputs": [],
   "source": [
    "8.Why is eggs a valid variable name while 100 is invalid?\n",
    "Ans= Because variable name can’t start with a number .It can be alphanumeric but it must start with a letter or the underscore character."
   ]
  },
  {
   "cell_type": "code",
   "execution_count": null,
   "id": "92e05620",
   "metadata": {},
   "outputs": [],
   "source": [
    "9.What three functions can be used to get the integer, floating-point number, or string version of a value?\n",
    "Ans a)Integer= int()\n",
    "B)Floating point number= float()\n",
    "C)String= str()\n"
   ]
  },
  {
   "cell_type": "code",
   "execution_count": null,
   "id": "76ed1e05",
   "metadata": {},
   "outputs": [],
   "source": [
    "10. Why does this expression cause an error? How can you fix it?\n",
    "'I have eaten ' + 99 + ' burritos.'\n",
    "Ans  Since we have used a single colon in the statement and again a colon is used in the mid of gthe sentence hence it caused an error. The correct statement will be\n",
    "“I have eaten ' + 99 + ' burritos.”"
   ]
  }
 ],
 "metadata": {
  "kernelspec": {
   "display_name": "Python 3 (ipykernel)",
   "language": "python",
   "name": "python3"
  },
  "language_info": {
   "codemirror_mode": {
    "name": "ipython",
    "version": 3
   },
   "file_extension": ".py",
   "mimetype": "text/x-python",
   "name": "python",
   "nbconvert_exporter": "python",
   "pygments_lexer": "ipython3",
   "version": "3.9.7"
  }
 },
 "nbformat": 4,
 "nbformat_minor": 5
}
